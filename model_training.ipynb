{
 "cells": [
  {
   "cell_type": "markdown",
   "metadata": {},
   "source": [
    "## Setup"
   ]
  },
  {
   "cell_type": "markdown",
   "metadata": {},
   "source": [
    "### Imports"
   ]
  },
  {
   "cell_type": "code",
   "execution_count": 67,
   "metadata": {},
   "outputs": [],
   "source": [
    "import torch\n",
    "import torch.nn as nn\n",
    "import pytorch_lightning as pl\n",
    "from pytorch_lightning import Trainer\n",
    "from torchvision.models import efficientnet_b2, EfficientNet_B2_Weights\n",
    "from torch.utils.data import Dataset, DataLoader\n",
    "from sklearn.model_selection import train_test_split\n",
    "from sklearn.metrics import classification_report, confusion_matrix, accuracy_score\n",
    "import torchvision.transforms as transforms\n",
    "from torchvision.transforms import (\n",
    "    Resize,\n",
    "    RandomHorizontalFlip,\n",
    "    RandomRotation,\n",
    "    ToTensor,\n",
    "    Normalize\n",
    ")\n",
    "from pytorch_lightning.callbacks import ModelCheckpoint, EarlyStopping\n",
    "from utils.classifier import OsteoporosisClassifier, evaluate_model\n",
    "from utils.onnx_triton import export_to_onnx, create_triton_config\n",
    "from pytorch_lightning.loggers import TensorBoardLogger\n",
    "import matplotlib.pyplot as plt\n",
    "import seaborn as sns\n",
    "import pandas as pd\n",
    "import kagglehub\n",
    "import os\n",
    "from pathlib import Path\n",
    "from PIL import Image\n",
    "import numpy as np\n"
   ]
  },
  {
   "cell_type": "markdown",
   "metadata": {},
   "source": [
    "## Global variables"
   ]
  },
  {
   "cell_type": "code",
   "execution_count": 68,
   "metadata": {},
   "outputs": [],
   "source": [
    "from utils.classifier import (\n",
    "    BATCH_SIZE, \n",
    "    NUM_WORKERS, \n",
    "    IMG_SIZE, \n",
    "    NUM_CLASSES, \n",
    "    MAX_EPOCHS, \n",
    "    LEARNING_RATE, \n",
    "    CLASS_NAMES\n",
    ")"
   ]
  },
  {
   "cell_type": "markdown",
   "metadata": {},
   "source": [
    "### Dataset collection"
   ]
  },
  {
   "cell_type": "code",
   "execution_count": 69,
   "metadata": {},
   "outputs": [
    {
     "name": "stdout",
     "output_type": "stream",
     "text": [
      "Path to dataset files: /home/gasyna/.cache/kagglehub/datasets/mohamedgobara/osteoporosis-database/versions/1/Osteoporosis Knee X-ray\n"
     ]
    }
   ],
   "source": [
    "# Download latest version\n",
    "TASK_NAME = 'Osteoporosis Knee X-ray'\n",
    "path = kagglehub.dataset_download(\"mohamedgobara/osteoporosis-database\")\n",
    "\n",
    "path = os.path.join(path, TASK_NAME)\n",
    "print(\"Path to dataset files:\", path)\n"
   ]
  },
  {
   "cell_type": "markdown",
   "metadata": {},
   "source": [
    "## Dataset"
   ]
  },
  {
   "cell_type": "code",
   "execution_count": 70,
   "metadata": {},
   "outputs": [],
   "source": [
    "class OsteoporosisDataset(Dataset):\n",
    "    \"\"\"Custom dataset for Osteoporosis Classification\"\"\"\n",
    "\n",
    "    def __init__(self, dataframe: pd.DataFrame, transform = None):\n",
    "        # super().__init__()\n",
    "        self.dataframe = dataframe.reset_index(drop=True)\n",
    "        self.transform = transform\n",
    "        self.label_map = {label: key for key, label in enumerate(CLASS_NAMES)}\n",
    "        \n",
    "    def __len__(self):\n",
    "        return len(self.dataframe)\n",
    "    \n",
    "    def __getitem__(self, idx) -> list[Image.Image, int]:\n",
    "        img_path = self.dataframe.iloc[idx]['filepaths']\n",
    "        label    = self.dataframe.iloc[idx]['labels']\n",
    "        label    = self.label_map[label]\n",
    "\n",
    "        try:\n",
    "            # Load image\n",
    "            image = Image.open(img_path).convert('RGB') # Convert to RGB to better feature extraction\n",
    "            \n",
    "            if self.transform:\n",
    "                image = self.transform(image)\n",
    "            \n",
    "            return image, label\n",
    "        \n",
    "        except Exception as e:\n",
    "            print(f\"Error loading image {img_path}: {e}\")\n",
    "            # return dummy image\n",
    "            dummy_image = torch.zeros(3, *IMG_SIZE)\n",
    "            return dummy_image, 0"
   ]
  },
  {
   "cell_type": "markdown",
   "metadata": {},
   "source": [
    "## Datamodule"
   ]
  },
  {
   "cell_type": "code",
   "execution_count": 71,
   "metadata": {},
   "outputs": [],
   "source": [
    "class OsteoporosisDataModule(pl.LightningDataModule):\n",
    "    \"\"\" Data module with torchvision transforms and oversampling for imbalanced dataset \"\"\"\n",
    "    def __init__(self, data_dir: str, batch_size: int = 4, num_workers: int = 4, img_size: tuple[int, int] = (224, 224)):\n",
    "        super().__init__()\n",
    "        self.data_dir = data_dir\n",
    "        self.batch_size = batch_size\n",
    "        self.num_workers = num_workers\n",
    "        self.img_size = img_size\n",
    "\n",
    "        # Data augumentation\n",
    "        self.train_transform = transforms.Compose([\n",
    "            Resize(self.img_size),\n",
    "            RandomHorizontalFlip(p=0.2),\n",
    "            RandomRotation(degrees=[-15, 15]),\n",
    "            ToTensor(),\n",
    "            Normalize(mean=[0.485, 0.456, 0.406], \n",
    "                    std=[0.229, 0.224, 0.225]) # ImageNet RGB standard deviation for pretrained model\n",
    "        ])\n",
    "\n",
    "        self.val_transform = transforms.Compose([\n",
    "            Resize(self.img_size),\n",
    "            ToTensor(),\n",
    "            Normalize(mean=[0.485, 0.456, 0.406], \n",
    "                    std=[0.229, 0.224, 0.225]) # ImageNet RGB standard deviation for pretrained model\n",
    "        ])\n",
    "\n",
    "    def prepare_data(self):\n",
    "        \"\"\" Load and balance data \"\"\"\n",
    "        filepaths = []\n",
    "        labels = []\n",
    "\n",
    "        for class_name in CLASS_NAMES:\n",
    "            class_dir = os.path.join(self.data_dir, class_name)\n",
    "            if os.path.exists(class_dir):\n",
    "                for filename in os.listdir(class_dir):\n",
    "                    if filename.lower().endswith(('.jpg', '.jpeg', '.png')):\n",
    "                        filepaths.append(os.path.join(class_dir, filename))\n",
    "                        labels.append(class_name)\n",
    "\n",
    "        self.df_full = pd.DataFrame({'filepaths': filepaths, 'labels': labels})\n",
    "        print(f\"Original dataset size: {len(self.df_full)}\")\n",
    "        print(f\"Class distribution:\\n{self.df_full['labels'].value_counts()}\")\n",
    "    \n",
    "    def oversample(self, df):\n",
    "        \"\"\" Oversample a DataFrame to balance class distribution \"\"\"\n",
    "        max_count = df['labels'].value_counts().max()\n",
    "        balanced_df = pd.concat([\n",
    "            group.sample(max_count, replace=True, random_state=42)\n",
    "            for _, group in df.groupby('labels')\n",
    "        ]).sample(frac=1, random_state=42).reset_index(drop=True)\n",
    "\n",
    "        return balanced_df\n",
    "\n",
    "    def setup(self, stage=None):\n",
    "        if stage == 'fit' or stage is None:\n",
    "            # Split before oversampling\n",
    "            train_df, temp_df = train_test_split(\n",
    "                self.df_full, test_size=0.3, stratify=self.df_full['labels'], random_state=42\n",
    "            )\n",
    "            self.val_df, self.test_df = train_test_split(\n",
    "                temp_df, test_size=0.5, stratify=temp_df['labels'], random_state=42\n",
    "            )\n",
    "\n",
    "            # Now oversample train only\n",
    "            self.train_df = self.oversample(train_df)\n",
    "            # self.val_df = self.oversample(self.val_df)\n",
    "\n",
    "            print(\"Train/Val/Test sizes:\")\n",
    "            print(f\"Train: {len(self.train_df)}\")\n",
    "            print(f\"Val: {len(self.val_df)}\")\n",
    "            print(f\"Test: {len(self.test_df)}\")\n",
    "\n",
    "        if stage == 'test':\n",
    "            if not hasattr(self, 'test_df'):\n",
    "                _, temp_df = train_test_split(self.df_full, test_size=0.3, stratify=self.df_full['labels'], random_state=42)\n",
    "                _, self.test_df = train_test_split(temp_df, test_size=0.5, stratify=temp_df['labels'], random_state=42)\n",
    "                # self.test_df = self.oversample(self.test_df)\n",
    "\n",
    "    def train_dataloader(self):\n",
    "        train_dataset = OsteoporosisDataset(self.train_df, transform=self.train_transform)\n",
    "        return DataLoader(train_dataset, batch_size=self.batch_size, \n",
    "                         shuffle=True, num_workers=self.num_workers, pin_memory=True)\n",
    "    \n",
    "    def val_dataloader(self):\n",
    "        val_dataset = OsteoporosisDataset(self.val_df, transform=self.val_transform)\n",
    "        return DataLoader(val_dataset, batch_size=self.batch_size, \n",
    "                         shuffle=False, num_workers=self.num_workers, pin_memory=True)\n",
    "    \n",
    "    def test_dataloader(self):\n",
    "        test_dataset = OsteoporosisDataset(self.test_df, transform=self.val_transform)\n",
    "        return DataLoader(test_dataset, batch_size=self.batch_size, \n",
    "                         shuffle=False, num_workers=self.num_workers, pin_memory=True)\n",
    "    \n",
    "    def predict_dataloader(self):\n",
    "        return self.test_dataloader()"
   ]
  },
  {
   "cell_type": "markdown",
   "metadata": {},
   "source": [
    "## Classifier"
   ]
  },
  {
   "cell_type": "code",
   "execution_count": 72,
   "metadata": {},
   "outputs": [],
   "source": [
    "# imported from classifier.py"
   ]
  },
  {
   "cell_type": "markdown",
   "metadata": {},
   "source": [
    "## Trainer"
   ]
  },
  {
   "cell_type": "code",
   "execution_count": null,
   "metadata": {},
   "outputs": [],
   "source": [
    "pl.seed_everything(42)\n",
    "\n",
    "# Initialize data module\n",
    "datamodule = OsteoporosisDataModule(\n",
    "    data_dir=path,\n",
    "    batch_size=BATCH_SIZE,\n",
    "    num_workers=NUM_WORKERS,\n",
    "    img_size=IMG_SIZE\n",
    ")\n",
    "\n",
    "# Prepare and setup data\n",
    "print(\"Preparing balanced dataset...\")\n",
    "datamodule.prepare_data()\n",
    "datamodule.setup('fit')\n",
    "\n",
    "\n",
    "model = OsteoporosisClassifier(\n",
    "    num_classes=NUM_CLASSES,\n",
    "    learning_rate=LEARNING_RATE\n",
    ")\n",
    "\n",
    "early_stop = EarlyStopping(\n",
    "    monitor='val_balanced_acc',\n",
    "    patience=15,\n",
    "    mode='max',\n",
    "    verbose=True\n",
    ")\n",
    "\n",
    "checkpoint = ModelCheckpoint(\n",
    "    monitor='val_balanced_acc',\n",
    "    dirpath='checkpoints/',\n",
    "    filename='simple-osteo-{epoch:02d}-{val_balanced_acc:.3f}',\n",
    "    save_top_k=1,\n",
    "    mode='max'\n",
    ")\n",
    "\n",
    "# Initialize trainer\n",
    "trainer = Trainer(\n",
    "    max_epochs=MAX_EPOCHS,\n",
    "    callbacks=[early_stop, checkpoint],\n",
    "    logger=TensorBoardLogger('tb_logs', name='simple_osteoporosis'),\n",
    "    accelerator='auto',\n",
    "    devices='auto',\n",
    "    precision=32  # Use full precision for stability\n",
    ")\n",
    "\n",
    "print(\"Starting training with balanced dataset...\")\n",
    "trainer.fit(model, datamodule=datamodule)"
   ]
  },
  {
   "cell_type": "markdown",
   "metadata": {},
   "source": [
    "## Evaluation"
   ]
  },
  {
   "cell_type": "code",
   "execution_count": 74,
   "metadata": {},
   "outputs": [
    {
     "name": "stderr",
     "output_type": "stream",
     "text": [
      "LOCAL_RANK: 0 - CUDA_VISIBLE_DEVICES: [0]\n"
     ]
    },
    {
     "name": "stdout",
     "output_type": "stream",
     "text": [
      "\n",
      "Evaluating final model...\n",
      "Original dataset size: 239\n",
      "Class distribution:\n",
      "labels\n",
      "osteopenia      154\n",
      "osteoporosis     49\n",
      "normal           36\n",
      "Name: count, dtype: int64\n",
      "Testing DataLoader 0: 100%|██████████| 9/9 [00:00<00:00, 12.12it/s]"
     ]
    },
    {
     "name": "stderr",
     "output_type": "stream",
     "text": [
      "LOCAL_RANK: 0 - CUDA_VISIBLE_DEVICES: [0]\n"
     ]
    },
    {
     "name": "stdout",
     "output_type": "stream",
     "text": [
      "\n",
      "────────────────────────────────────────────────────────────────────────────────────────────────────────────────────────\n",
      "       Test metric             DataLoader 0\n",
      "────────────────────────────────────────────────────────────────────────────────────────────────────────────────────────\n",
      "        test_acc            0.6666666865348816\n",
      "        test_loss           0.8823410868644714\n",
      "────────────────────────────────────────────────────────────────────────────────────────────────────────────────────────\n",
      "Original dataset size: 239\n",
      "Class distribution:\n",
      "labels\n",
      "osteopenia      154\n",
      "osteoporosis     49\n",
      "normal           36\n",
      "Name: count, dtype: int64\n",
      "Predicting DataLoader 0: 100%|██████████| 9/9 [00:00<00:00, 11.91it/s]\n",
      "\n",
      "Final Test Results:\n",
      "==================================================\n",
      "              precision    recall  f1-score   support\n",
      "\n",
      "      Normal       0.75      0.50      0.60         6\n",
      "  Osteopenia       0.85      0.74      0.79        23\n",
      "Osteoporosis       0.33      0.57      0.42         7\n",
      "\n",
      "    accuracy                           0.67        36\n",
      "   macro avg       0.64      0.60      0.60        36\n",
      "weighted avg       0.73      0.67      0.69        36\n",
      "\n",
      "Overall Accuracy: 66.7%\n",
      "\n",
      "Confusion Matrix:\n",
      "[[ 3  1  2]\n",
      " [ 0 17  6]\n",
      " [ 1  2  4]]\n"
     ]
    },
    {
     "data": {
      "image/png": "[encoded data removed]",
      "text/plain": [
       "<Figure size 800x600 with 2 Axes>"
      ]
     },
     "metadata": {},
     "output_type": "display_data"
    },
    {
     "name": "stdout",
     "output_type": "stream",
     "text": [
      "\n",
      "Per-class Performance:\n",
      "Normal      : Recall=50.0%, Precision=75.0%\n",
      "Osteopenia  : Recall=73.9%, Precision=85.0%\n",
      "Osteoporosis: Recall=57.1%, Precision=33.3%\n"
     ]
    }
   ],
   "source": [
    "# Load best model and evaluate\n",
    "best_model = OsteoporosisClassifier.load_from_checkpoint(\n",
    "    checkpoint.best_model_path,\n",
    "    num_classes=NUM_CLASSES,\n",
    "    learning_rate=LEARNING_RATE\n",
    ")\n",
    "\n",
    "print(\"\\nEvaluating final model...\")\n",
    "\n",
    "evaluate_model(trainer, best_model, datamodule)\n"
   ]
  },
  {
   "cell_type": "markdown",
   "metadata": {},
   "source": [
    "## Export"
   ]
  },
  {
   "cell_type": "code",
   "execution_count": 75,
   "metadata": {},
   "outputs": [
    {
     "name": "stdout",
     "output_type": "stream",
     "text": [
      "Model exported to /home/gasyna/knee_osteoporosis/utils/models/osteoporosis_classifier/1/model.onnx\n",
      "ONNX model verification successful!\n",
      "ONNX Runtime test successful! Output shape: (1, 3)\n"
     ]
    },
    {
     "data": {
      "text/plain": [
       "'/home/gasyna/knee_osteoporosis/utils/models/osteoporosis_classifier/1/model.onnx'"
      ]
     },
     "execution_count": 75,
     "metadata": {},
     "output_type": "execute_result"
    }
   ],
   "source": [
    "export_to_onnx(checkpoint.best_model_path)"
   ]
  },
  {
   "cell_type": "markdown",
   "metadata": {},
   "source": [
    "## Create Triton config files"
   ]
  },
  {
   "cell_type": "code",
   "execution_count": 77,
   "metadata": {},
   "outputs": [
    {
     "name": "stdout",
     "output_type": "stream",
     "text": [
      "Triton config created at /home/gasyna/knee_osteoporosis/utils/models/osteoporosis_classifier/config.pbtxt\n"
     ]
    },
    {
     "data": {
      "text/plain": [
       "'/home/gasyna/knee_osteoporosis/utils/models/osteoporosis_classifier/config.pbtxt'"
      ]
     },
     "execution_count": 77,
     "metadata": {},
     "output_type": "execute_result"
    }
   ],
   "source": [
    "create_triton_config()"
   ]
  }
 ],
 "metadata": {
  "kernelspec": {
   "display_name": "Python 3",
   "language": "python",
   "name": "python3"
  },
  "language_info": {
   "codemirror_mode": {
    "name": "ipython",
    "version": 3
   },
   "file_extension": ".py",
   "mimetype": "text/x-python",
   "name": "python",
   "nbconvert_exporter": "python",
   "pygments_lexer": "ipython3",
   "version": "3.10.12"
  }
 },
 "nbformat": 4,
 "nbformat_minor": 2
}
